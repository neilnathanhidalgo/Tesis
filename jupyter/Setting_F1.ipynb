{
 "cells": [
  {
   "cell_type": "code",
   "execution_count": 1,
   "id": "initial_id",
   "metadata": {
    "collapsed": true,
    "ExecuteTime": {
     "end_time": "2024-10-17T20:02:32.316376500Z",
     "start_time": "2024-10-17T20:02:30.598062800Z"
    }
   },
   "outputs": [],
   "source": [
    "import pandas as pd\n",
    "from sklearn.ensemble import RandomForestClassifier\n",
    "from sklearn.model_selection import RepeatedKFold\n",
    "import numpy as np\n",
    "from sklearn.model_selection import cross_validate\n",
    "import re"
   ]
  },
  {
   "cell_type": "code",
   "execution_count": 40,
   "outputs": [],
   "source": [
    "filename = \"../data/preprocessed_data/Mhealth_150_25.csv\"\n",
    "\n",
    "numbers = re.findall(r'\\d+', filename)\n",
    "window_size = numbers[0]\n",
    "overlap = numbers[1] "
   ],
   "metadata": {
    "collapsed": false,
    "ExecuteTime": {
     "end_time": "2024-10-17T23:41:03.499194Z",
     "start_time": "2024-10-17T23:41:03.488840700Z"
    }
   },
   "id": "d1a14da5f36f3bf9"
  },
  {
   "cell_type": "code",
   "execution_count": 41,
   "outputs": [
    {
     "data": {
      "text/plain": "   max_Acctr_tChest_X(m/s2)  max_Acctr_tChest_Y(m/s2)  \\\n0                   -9.1065                   0.69219   \n1                   -9.3725                   0.58919   \n2                   -9.3312                   0.75182   \n3                   -9.3337                   0.75182   \n4                   -9.4184                   0.66073   \n\n   max_Acctr_tChest_Z(m/s2)  max_Acctr_tLA_X(m/s2)  max_Acctr_tLA_Y(m/s2)  \\\n0                    1.3479                 2.6634                -9.2129   \n1                    1.2780                 2.6227                -9.1535   \n2                    1.1054                 2.6622                -9.2031   \n3                    1.0386                 2.6732                -9.2031   \n4                    1.1164                 2.6619                -9.2133   \n\n   max_Acctr_tLA_Z(m/s2)  max_Acctr_tRLA_X(m/s2)  max_Acctr_tRLA_Y(m/s2)  \\\n0                0.76847                 -2.5823                 -8.8917   \n1                0.67597                 -2.5602                 -8.8420   \n2                0.68218                 -2.5695                 -8.8420   \n3                0.74547                 -2.6130                 -8.8531   \n4                0.80207                 -2.7111                 -8.8724   \n\n   max_Acctr_tRLA_Z(m/s2)  max_Gype_tLA_X(deg/s)  ...  var_MgFld_tLA_Y(T)  \\\n0                  2.0668               -0.19109  ...        5.364091e-14   \n1                  2.0614               -0.19852  ...        1.930683e-13   \n2                  2.0460               -0.19481  ...        7.879689e-14   \n3                  2.0148               -0.19109  ...        5.184063e-14   \n4                  1.9815               -0.20037  ...        7.168525e-14   \n\n   var_MgFld_tLA_Y(uT)  var_MgFld_tLA_Z(T)  var_MgFld_tLA_Z(uT)  \\\n0             0.053641        3.131807e-14             0.031318   \n1             0.193068        3.045784e-14             0.030458   \n2             0.078797        2.689561e-14             0.026896   \n3             0.051841        2.450693e-14             0.024507   \n4             0.071685        2.143047e-14             0.021430   \n\n   var_MgFld_tRLA_X(T)  var_MgFld_tRLA_X(uT)  var_MgFld_tRLA_Y(T)  \\\n0         1.170388e-13              0.117039         3.571286e-13   \n1         2.474357e-13              0.247436         1.371821e-12   \n2         1.184993e-13              0.118499         6.231212e-13   \n3         1.750402e-13              0.175040         8.266895e-13   \n4         1.068484e-13              0.106848         3.107903e-13   \n\n   var_MgFld_tRLA_Y(uT)  var_MgFld_tRLA_Z(T)  var_MgFld_tRLA_Z(uT)  \n0              0.357129         3.233093e-13              0.323309  \n1              1.371821         5.601447e-13              0.560145  \n2              0.623121         4.578484e-13              0.457848  \n3              0.826690         3.294642e-13              0.329464  \n4              0.310790         4.117430e-13              0.411743  \n\n[5 rows x 189 columns]",
      "text/html": "<div>\n<style scoped>\n    .dataframe tbody tr th:only-of-type {\n        vertical-align: middle;\n    }\n\n    .dataframe tbody tr th {\n        vertical-align: top;\n    }\n\n    .dataframe thead th {\n        text-align: right;\n    }\n</style>\n<table border=\"1\" class=\"dataframe\">\n  <thead>\n    <tr style=\"text-align: right;\">\n      <th></th>\n      <th>max_Acctr_tChest_X(m/s2)</th>\n      <th>max_Acctr_tChest_Y(m/s2)</th>\n      <th>max_Acctr_tChest_Z(m/s2)</th>\n      <th>max_Acctr_tLA_X(m/s2)</th>\n      <th>max_Acctr_tLA_Y(m/s2)</th>\n      <th>max_Acctr_tLA_Z(m/s2)</th>\n      <th>max_Acctr_tRLA_X(m/s2)</th>\n      <th>max_Acctr_tRLA_Y(m/s2)</th>\n      <th>max_Acctr_tRLA_Z(m/s2)</th>\n      <th>max_Gype_tLA_X(deg/s)</th>\n      <th>...</th>\n      <th>var_MgFld_tLA_Y(T)</th>\n      <th>var_MgFld_tLA_Y(uT)</th>\n      <th>var_MgFld_tLA_Z(T)</th>\n      <th>var_MgFld_tLA_Z(uT)</th>\n      <th>var_MgFld_tRLA_X(T)</th>\n      <th>var_MgFld_tRLA_X(uT)</th>\n      <th>var_MgFld_tRLA_Y(T)</th>\n      <th>var_MgFld_tRLA_Y(uT)</th>\n      <th>var_MgFld_tRLA_Z(T)</th>\n      <th>var_MgFld_tRLA_Z(uT)</th>\n    </tr>\n  </thead>\n  <tbody>\n    <tr>\n      <th>0</th>\n      <td>-9.1065</td>\n      <td>0.69219</td>\n      <td>1.3479</td>\n      <td>2.6634</td>\n      <td>-9.2129</td>\n      <td>0.76847</td>\n      <td>-2.5823</td>\n      <td>-8.8917</td>\n      <td>2.0668</td>\n      <td>-0.19109</td>\n      <td>...</td>\n      <td>5.364091e-14</td>\n      <td>0.053641</td>\n      <td>3.131807e-14</td>\n      <td>0.031318</td>\n      <td>1.170388e-13</td>\n      <td>0.117039</td>\n      <td>3.571286e-13</td>\n      <td>0.357129</td>\n      <td>3.233093e-13</td>\n      <td>0.323309</td>\n    </tr>\n    <tr>\n      <th>1</th>\n      <td>-9.3725</td>\n      <td>0.58919</td>\n      <td>1.2780</td>\n      <td>2.6227</td>\n      <td>-9.1535</td>\n      <td>0.67597</td>\n      <td>-2.5602</td>\n      <td>-8.8420</td>\n      <td>2.0614</td>\n      <td>-0.19852</td>\n      <td>...</td>\n      <td>1.930683e-13</td>\n      <td>0.193068</td>\n      <td>3.045784e-14</td>\n      <td>0.030458</td>\n      <td>2.474357e-13</td>\n      <td>0.247436</td>\n      <td>1.371821e-12</td>\n      <td>1.371821</td>\n      <td>5.601447e-13</td>\n      <td>0.560145</td>\n    </tr>\n    <tr>\n      <th>2</th>\n      <td>-9.3312</td>\n      <td>0.75182</td>\n      <td>1.1054</td>\n      <td>2.6622</td>\n      <td>-9.2031</td>\n      <td>0.68218</td>\n      <td>-2.5695</td>\n      <td>-8.8420</td>\n      <td>2.0460</td>\n      <td>-0.19481</td>\n      <td>...</td>\n      <td>7.879689e-14</td>\n      <td>0.078797</td>\n      <td>2.689561e-14</td>\n      <td>0.026896</td>\n      <td>1.184993e-13</td>\n      <td>0.118499</td>\n      <td>6.231212e-13</td>\n      <td>0.623121</td>\n      <td>4.578484e-13</td>\n      <td>0.457848</td>\n    </tr>\n    <tr>\n      <th>3</th>\n      <td>-9.3337</td>\n      <td>0.75182</td>\n      <td>1.0386</td>\n      <td>2.6732</td>\n      <td>-9.2031</td>\n      <td>0.74547</td>\n      <td>-2.6130</td>\n      <td>-8.8531</td>\n      <td>2.0148</td>\n      <td>-0.19109</td>\n      <td>...</td>\n      <td>5.184063e-14</td>\n      <td>0.051841</td>\n      <td>2.450693e-14</td>\n      <td>0.024507</td>\n      <td>1.750402e-13</td>\n      <td>0.175040</td>\n      <td>8.266895e-13</td>\n      <td>0.826690</td>\n      <td>3.294642e-13</td>\n      <td>0.329464</td>\n    </tr>\n    <tr>\n      <th>4</th>\n      <td>-9.4184</td>\n      <td>0.66073</td>\n      <td>1.1164</td>\n      <td>2.6619</td>\n      <td>-9.2133</td>\n      <td>0.80207</td>\n      <td>-2.7111</td>\n      <td>-8.8724</td>\n      <td>1.9815</td>\n      <td>-0.20037</td>\n      <td>...</td>\n      <td>7.168525e-14</td>\n      <td>0.071685</td>\n      <td>2.143047e-14</td>\n      <td>0.021430</td>\n      <td>1.068484e-13</td>\n      <td>0.106848</td>\n      <td>3.107903e-13</td>\n      <td>0.310790</td>\n      <td>4.117430e-13</td>\n      <td>0.411743</td>\n    </tr>\n  </tbody>\n</table>\n<p>5 rows × 189 columns</p>\n</div>"
     },
     "execution_count": 41,
     "metadata": {},
     "output_type": "execute_result"
    }
   ],
   "source": [
    "data = pd.read_csv(filename)\n",
    "data.drop([\"Sensor\", \"ID\", \"DTS\", ], axis=1, inplace=True)\n",
    "\n",
    "subjects = data[\"Subject\"]\n",
    "\n",
    "data.drop(\"Subject\", axis=1, inplace=True)\n",
    "\n",
    "Y_tChest = data[\"Activity\"]\n",
    "Y_tLA = data[\"Activity\"]\n",
    "Y_tRLA = data[\"Activity\"]\n",
    "\n",
    "data.drop(\"Activity\", axis=1, inplace=True)\n",
    "\n",
    "X = data[data.columns.to_list()]\n",
    "\n",
    "X_tChest = X.filter(like='tChest')\n",
    "X_tLA = X.filter(like='tLA')\n",
    "X_tRLA = X.filter(like='tRLA')\n",
    "\n",
    "X.head()"
   ],
   "metadata": {
    "collapsed": false,
    "ExecuteTime": {
     "end_time": "2024-10-17T23:41:06.427971600Z",
     "start_time": "2024-10-17T23:41:06.263814400Z"
    }
   },
   "id": "8ff352725e715740"
  },
  {
   "cell_type": "code",
   "execution_count": 42,
   "outputs": [],
   "source": [
    "max_depth_tChest = 4\n",
    "max_depth_tLA = 4\n",
    "max_depth_tRLA = 4\n",
    "n_repeats = 30\n",
    "k_folds = 10\n",
    "\n",
    "rf = np.zeros(n_repeats)\n",
    "rf_f1_tChest = np.zeros(n_repeats)\n",
    "rf_wf1_tChest = np.zeros(n_repeats)\n",
    "rf_f1_tLA = np.zeros(n_repeats) \n",
    "rf_wf1_tLA = np.zeros(n_repeats)\n",
    "rf_f1_tRLA = np.zeros(n_repeats)\n",
    "rf_wf1_tRLA = np.zeros(n_repeats)\n",
    "\n",
    "cv = RepeatedKFold(n_splits=k_folds, n_repeats=n_repeats, random_state=0)\n",
    "    \n",
    "model_tChest = RandomForestClassifier(max_depth=max_depth_tChest)\n",
    "model_tLA = RandomForestClassifier(max_depth=max_depth_tLA)\n",
    "model_tRLA = RandomForestClassifier( max_depth=max_depth_tRLA)\n",
    "    \n",
    "scoring = ['f1_weighted']\n",
    "    \n",
    "scores_tChest = cross_validate(model_tChest, X_tChest, Y_tChest, scoring=scoring, cv=cv, n_jobs=-1)\n",
    "scores_tLA = cross_validate(model_tLA, X_tLA, Y_tLA, scoring=scoring, cv=cv, n_jobs=-1)\n",
    "scores_tRLA = cross_validate(model_tRLA, X_tRLA, Y_tRLA, scoring=scoring, cv=cv, n_jobs=-1)"
   ],
   "metadata": {
    "collapsed": false,
    "ExecuteTime": {
     "end_time": "2024-10-17T23:46:24.757977200Z",
     "start_time": "2024-10-17T23:41:16.993100900Z"
    }
   },
   "id": "c0252c755019c0a2"
  },
  {
   "cell_type": "code",
   "execution_count": 43,
   "outputs": [],
   "source": [
    "rf = np.arange(1, n_repeats*k_folds + 1)\n",
    "metrics_df = pd.DataFrame({\n",
    "    'n_estimators': rf,\n",
    "    f'weighted_f1_C_{max_depth_tChest}_{window_size}_{overlap}': scores_tChest['test_f1_weighted'],\n",
    "    f'weighted_f1_L_{max_depth_tLA}_{window_size}_{overlap}': scores_tLA['test_f1_weighted'],\n",
    "    f'weighted_f1_R_{max_depth_tRLA}_{window_size}_{overlap}': scores_tRLA['test_f1_weighted']\n",
    "}) \n",
    "\n",
    "metrics_df.to_csv(\"D:/Estudios/Tesis/resultados/ult_exp/md/150_25/300.csv\", index=False)"
   ],
   "metadata": {
    "collapsed": false,
    "ExecuteTime": {
     "end_time": "2024-10-17T23:47:01.275484400Z",
     "start_time": "2024-10-17T23:47:01.262410200Z"
    }
   },
   "id": "4a3133f7c798340e"
  },
  {
   "cell_type": "code",
   "execution_count": null,
   "outputs": [],
   "source": [],
   "metadata": {
    "collapsed": false
   },
   "id": "8ff4c44db2a30d6c"
  }
 ],
 "metadata": {
  "kernelspec": {
   "display_name": "Python 3",
   "language": "python",
   "name": "python3"
  },
  "language_info": {
   "codemirror_mode": {
    "name": "ipython",
    "version": 2
   },
   "file_extension": ".py",
   "mimetype": "text/x-python",
   "name": "python",
   "nbconvert_exporter": "python",
   "pygments_lexer": "ipython2",
   "version": "2.7.6"
  }
 },
 "nbformat": 4,
 "nbformat_minor": 5
}
